{
 "cells": [
  {
   "cell_type": "markdown",
   "metadata": {},
   "source": [
    "# Predict Vancouver's Airbnb Price\n",
    "by Bill Wan\n",
    "2024/01/05"
   ]
  },
  {
   "cell_type": "code",
   "execution_count": 2,
   "metadata": {
    "editable": true,
    "slideshow": {
     "slide_type": ""
    },
    "tags": [
     "remove-cell"
    ]
   },
   "outputs": [],
   "source": [
    "import pandas as pd\n",
    "from myst_nb import glue"
   ]
  },
  {
   "cell_type": "markdown",
   "metadata": {},
   "source": [
    "## Summary\n",
    "\n",
    "In this Airbnb price prediction project, I utilized Vancouver Airbnb data sourced from Inside Airbnb. To enhance user interaction and understanding, I developed an interactive dashboard that provides a visual representation of the dataset.\n",
    "\n",
    "I undertook a comprehensive workflow that included exploratory data analysis (EDA), preprocessing, feature engineering, model building, feature selection, hyperparameter optimization, and model testing. Our aim was to develop an effective machine learning model to predict Airbnb prices. The models considered in the project include Polynomial Ridge, LGBM, Random Forest, and variations of Random Forest models. \n",
    "\n",
    "Noteworthy findings include the LGBM model demonstrating a mean test score of 0.6, suggesting promising predictive capabilities. Feature importance analysis and model interpretation were facilitated using SHAP (SHapley Additive exPlanations), providing insights into the contribution of different features to model predictions."
   ]
  },
  {
   "cell_type": "markdown",
   "metadata": {},
   "source": [
    "## Introduction and Understanding the data\n",
    "\n",
    "The data is from [Inside Airbnb](http://insideairbnb.com/get-the-data/) capturing all the listings in Airbnb in Vancouver uptill 13 December 2023. It contains 6695 listings and is described by 75 different columns, including information about the host, the text description, the location of the listing, and the rating of comments.The primary goal is to leverage these features for predicting listing prices.\n",
    "\n",
    " the distribution of key numeric features within the dataset, offering insights into the characteristics of the Airbnb listings under consideration."
   ]
  },
  {
   "cell_type": "markdown",
   "metadata": {},
   "source": [
    "```{figure} ../result/plots/numeric_features_plot.png\n",
    "---|\n",
    "width: 800px\n",
    "name: plot_of_numeric_feature\n",
    "---\n",
    "Distributions comparison of numeric features\n",
    "```"
   ]
  },
  {
   "cell_type": "markdown",
   "metadata": {},
   "source": [
    "Below is the correlation matrix of some the numeric features."
   ]
  },
  {
   "cell_type": "markdown",
   "metadata": {},
   "source": [
    "```{figure} ../result/plots/correlation_matrix.png\n",
    "---|\n",
    "width: 800px\n",
    "name: correlation matrix\n",
    "---\n",
    "The correlation matrix of numeric features\n",
    "```"
   ]
  },
  {
   "cell_type": "markdown",
   "metadata": {},
   "source": [
    "The visualizations reveal several noteworthy observations:\n",
    "\n",
    "1. Skewed Price Distribution: The distribution of the target variable (price) appears highly skewed, indicating a potential benefit from normalization for improved model performance.\n",
    "\n",
    "2. Correlation in Review Scores: Review scores exhibit significant correlation with each other. To streamline the model, it is advisable to retain only one representative score.\n",
    "\n",
    "3. Redundancy in Host Listing Count: A notable correlation exists between 'host_listing_count' and 'host_total_listing_count.' To enhance model simplicity, retaining only one of these features is suggested.\n",
    "\n",
    "These insights guide our approach towards refining the dataset for optimal model performance and interpretability."
   ]
  },
  {
   "cell_type": "markdown",
   "metadata": {},
   "source": [
    "In addition, I have used Tableau to create an interactive dashboard which you can also access [here](https://public.tableau.com/app/profile/bill.wan6088/viz/Dashboard_Vancouver_airbnb/Dashboard1?publish=yes)."
   ]
  },
  {
   "cell_type": "code",
   "execution_count": null,
   "metadata": {
    "tags": [
     "remove-input"
    ]
   },
   "outputs": [],
   "source": [
    "%%html\n",
    "<div class='tableauPlaceholder' id='viz1704569104740' style='position: relative'><noscript><a href='#'><img alt='Dashboard 1 ' src='https:&#47;&#47;public.tableau.com&#47;static&#47;images&#47;Da&#47;Dashboard_Vancouver_airbnb&#47;Dashboard1&#47;1_rss.png' style='border: none' /></a></noscript><object class='tableauViz'  style='display:none;'><param name='host_url' value='https%3A%2F%2Fpublic.tableau.com%2F' /> <param name='embed_code_version' value='3' /> <param name='site_root' value='' /><param name='name' value='Dashboard_Vancouver_airbnb&#47;Dashboard1' /><param name='tabs' value='no' /><param name='toolbar' value='yes' /><param name='static_image' value='https:&#47;&#47;public.tableau.com&#47;static&#47;images&#47;Da&#47;Dashboard_Vancouver_airbnb&#47;Dashboard1&#47;1.png' /> <param name='animate_transition' value='yes' /><param name='display_static_image' value='yes' /><param name='display_spinner' value='yes' /><param name='display_overlay' value='yes' /><param name='display_count' value='yes' /><param name='language' value='en-GB' /><param name='filter' value='publish=yes' /></object></div>                <script type='text/javascript'>                    var divElement = document.getElementById('viz1704569104740');                    var vizElement = divElement.getElementsByTagName('object')[0];                    if ( divElement.offsetWidth > 800 ) { vizElement.style.width='1000px';vizElement.style.height='827px';} else if ( divElement.offsetWidth > 500 ) { vizElement.style.width='1000px';vizElement.style.height='827px';} else { vizElement.style.width='100%';vizElement.style.height='1277px';}                     var scriptElement = document.createElement('script');                    scriptElement.src = 'https://public.tableau.com/javascripts/api/viz_v1.js';                    vizElement.parentNode.insertBefore(scriptElement, vizElement);                </script>"
   ]
  },
  {
   "cell_type": "markdown",
   "metadata": {},
   "source": [
    "## Analysis\n",
    "The project evaluates several machine learning models, encompassing Polynomial Ridge, LGBM, and various Random Forest iterations. The pipeline incorporates diverse data processing and engineering techniques:\n",
    "\n",
    "1. Text Data Processing: Utilization of CountVectorizer for two text columns, enhancing model comprehension of textual information.\n",
    "\n",
    "2. Feature Scaling: Application of scaling on numeric features for improved model convergence and performance.\n",
    "\n",
    "3. One-Hot Encoding: Transformation of categorical data through one-hot encoding for effective model integration.\n",
    "\n",
    "4. Feature Engineering: Introduction of new features based on sentiment analysis, capturing the positivity of listing descriptions and neighborhood overviews.\n",
    "\n",
    "5. Target Variable Transformation: Log transformation applied to the target variable for improved model fitting.\n",
    "\n",
    "The dataset is partitioned into an 80% training set and a 20% test set. LGBM emerges as the top-performing model, prompting further refinement through hyperparameter tuning. The hyperparameter is optimized using 10-fold cross-validation, with the test score serving as the classification metric.\n",
    "\n",
    "Below is the result of the performance of every model."
   ]
  },
  {
   "cell_type": "code",
   "execution_count": 5,
   "metadata": {
    "tags": [
     "remove-input"
    ]
   },
   "outputs": [
    {
     "data": {
      "text/html": [
       "<div>\n",
       "<style scoped>\n",
       "    .dataframe tbody tr th:only-of-type {\n",
       "        vertical-align: middle;\n",
       "    }\n",
       "\n",
       "    .dataframe tbody tr th {\n",
       "        vertical-align: top;\n",
       "    }\n",
       "\n",
       "    .dataframe thead th {\n",
       "        text-align: right;\n",
       "    }\n",
       "</style>\n",
       "<table border=\"1\" class=\"dataframe\">\n",
       "  <thead>\n",
       "    <tr style=\"text-align: right;\">\n",
       "      <th></th>\n",
       "      <th>Unnamed: 0</th>\n",
       "      <th>Unnamed: 1</th>\n",
       "      <th>fit_time</th>\n",
       "      <th>score_time</th>\n",
       "      <th>test_score</th>\n",
       "      <th>train_score</th>\n",
       "    </tr>\n",
       "  </thead>\n",
       "  <tbody>\n",
       "    <tr>\n",
       "      <th>0</th>\n",
       "      <td>poly_ridge</td>\n",
       "      <td>mean</td>\n",
       "      <td>0.904</td>\n",
       "      <td>0.030</td>\n",
       "      <td>-2.108138e+08</td>\n",
       "      <td>0.329</td>\n",
       "    </tr>\n",
       "    <tr>\n",
       "      <th>1</th>\n",
       "      <td>poly_ridge</td>\n",
       "      <td>std</td>\n",
       "      <td>0.142</td>\n",
       "      <td>0.001</td>\n",
       "      <td>6.666518e+08</td>\n",
       "      <td>0.144</td>\n",
       "    </tr>\n",
       "    <tr>\n",
       "      <th>2</th>\n",
       "      <td>lgbm</td>\n",
       "      <td>mean</td>\n",
       "      <td>0.652</td>\n",
       "      <td>0.031</td>\n",
       "      <td>4.340000e-01</td>\n",
       "      <td>0.663</td>\n",
       "    </tr>\n",
       "    <tr>\n",
       "      <th>3</th>\n",
       "      <td>lgbm</td>\n",
       "      <td>std</td>\n",
       "      <td>0.027</td>\n",
       "      <td>0.001</td>\n",
       "      <td>2.220000e-01</td>\n",
       "      <td>0.054</td>\n",
       "    </tr>\n",
       "    <tr>\n",
       "      <th>4</th>\n",
       "      <td>random_forest</td>\n",
       "      <td>mean</td>\n",
       "      <td>1.147</td>\n",
       "      <td>0.045</td>\n",
       "      <td>3.650000e-01</td>\n",
       "      <td>0.573</td>\n",
       "    </tr>\n",
       "    <tr>\n",
       "      <th>5</th>\n",
       "      <td>random_forest</td>\n",
       "      <td>std</td>\n",
       "      <td>0.069</td>\n",
       "      <td>0.002</td>\n",
       "      <td>2.040000e-01</td>\n",
       "      <td>0.065</td>\n",
       "    </tr>\n",
       "    <tr>\n",
       "      <th>6</th>\n",
       "      <td>rf_model_based</td>\n",
       "      <td>mean</td>\n",
       "      <td>6.100</td>\n",
       "      <td>0.061</td>\n",
       "      <td>3.650000e-01</td>\n",
       "      <td>0.573</td>\n",
       "    </tr>\n",
       "    <tr>\n",
       "      <th>7</th>\n",
       "      <td>rf_model_based</td>\n",
       "      <td>std</td>\n",
       "      <td>2.015</td>\n",
       "      <td>0.014</td>\n",
       "      <td>2.040000e-01</td>\n",
       "      <td>0.065</td>\n",
       "    </tr>\n",
       "    <tr>\n",
       "      <th>8</th>\n",
       "      <td>rf_rfecv</td>\n",
       "      <td>mean</td>\n",
       "      <td>6.425</td>\n",
       "      <td>0.056</td>\n",
       "      <td>3.650000e-01</td>\n",
       "      <td>0.573</td>\n",
       "    </tr>\n",
       "    <tr>\n",
       "      <th>9</th>\n",
       "      <td>rf_rfecv</td>\n",
       "      <td>std</td>\n",
       "      <td>2.464</td>\n",
       "      <td>0.008</td>\n",
       "      <td>2.040000e-01</td>\n",
       "      <td>0.065</td>\n",
       "    </tr>\n",
       "  </tbody>\n",
       "</table>\n",
       "</div>"
      ],
      "text/plain": [
       "       Unnamed: 0 Unnamed: 1  fit_time  score_time    test_score  train_score\n",
       "0      poly_ridge       mean     0.904       0.030 -2.108138e+08        0.329\n",
       "1      poly_ridge        std     0.142       0.001  6.666518e+08        0.144\n",
       "2            lgbm       mean     0.652       0.031  4.340000e-01        0.663\n",
       "3            lgbm        std     0.027       0.001  2.220000e-01        0.054\n",
       "4   random_forest       mean     1.147       0.045  3.650000e-01        0.573\n",
       "5   random_forest        std     0.069       0.002  2.040000e-01        0.065\n",
       "6  rf_model_based       mean     6.100       0.061  3.650000e-01        0.573\n",
       "7  rf_model_based        std     2.015       0.014  2.040000e-01        0.065\n",
       "8        rf_rfecv       mean     6.425       0.056  3.650000e-01        0.573\n",
       "9        rf_rfecv        std     2.464       0.008  2.040000e-01        0.065"
      ]
     },
     "metadata": {
      "scrapbook": {
       "mime_prefix": "",
       "name": "model_scores"
      }
     },
     "output_type": "display_data"
    }
   ],
   "source": [
    "scores = pd.read_csv('../result/tables/output.csv')\n",
    "glue(\"model_scores\", scores)"
   ]
  },
  {
   "cell_type": "markdown",
   "metadata": {},
   "source": [
    "## Results & Discussion\n",
    "\n",
    "In the final stages of our Airbnb price prediction project, the LGBM model demonstrated the best performance, achieving a robust test score of 0.6 on the entire training dataset. The feature importance analysis highlighted key factors influencing predicted prices, with room availability and minimum nights emerging as top contributors. Notably, our innovative feature, capturing the positivity of the description text, secured a position among the top 5 influential features. These findings underscore the model's ability to discern crucial patterns in Airbnb pricing, providing a solid foundation for further refinement and application. Moving forward, ongoing exploration of feature engineering and fine-tuning holds the potential for even more accurate predictions.\n"
   ]
  },
  {
   "cell_type": "markdown",
   "metadata": {},
   "source": [
    "```{figure} ../result/plots/feature_importance.png\n",
    "---|\n",
    "width: 800px\n",
    "name: feature_importance\n",
    "---\n",
    "Top 10 feature accoring to their importance\n",
    "```"
   ]
  },
  {
   "cell_type": "markdown",
   "metadata": {},
   "source": [
    "### Waterfall Analysis\n",
    "To look at individual observation, let's delve into the fifth test data to unravel the intricacies of our LGBM model's prediction. The forecasted price, standing at 67.785 (inverse log of 4.231), positions itself below the average. The accompanying waterfall graph unveils the driving factors behind this prediction. This Airbnb listing accommodates 1.248 fewer people and mandates an additional 0.451 minimum nights. Furthermore, it is crucial to note that the property does not represent an entire apartment, contributing to the nuanced and reasoned outcome. \n",
    "This transparent analysis provides valuable insights into the nuanced considerations influencing our model's pricing predictions."
   ]
  },
  {
   "cell_type": "markdown",
   "metadata": {},
   "source": [
    "```{figure} ../result/plots/waterfall.png\n",
    "---|\n",
    "width: 800px\n",
    "name: waterfall_analysis\n",
    "---\n",
    "Top waterfall analysis of one listing\n",
    "```"
   ]
  },
  {
   "cell_type": "markdown",
   "metadata": {},
   "source": []
  }
 ],
 "metadata": {
  "kernelspec": {
   "display_name": "522_lab1",
   "language": "python",
   "name": "python3"
  },
  "language_info": {
   "codemirror_mode": {
    "name": "ipython",
    "version": 3
   },
   "file_extension": ".py",
   "mimetype": "text/x-python",
   "name": "python",
   "nbconvert_exporter": "python",
   "pygments_lexer": "ipython3",
   "version": "3.11.6"
  }
 },
 "nbformat": 4,
 "nbformat_minor": 4
}
